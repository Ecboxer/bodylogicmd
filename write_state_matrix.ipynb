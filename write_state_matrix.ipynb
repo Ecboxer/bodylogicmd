{
 "cells": [
  {
   "cell_type": "code",
   "execution_count": 1,
   "metadata": {},
   "outputs": [],
   "source": [
    "import numpy as np\n",
    "import pandas as pd\n",
    "import json"
   ]
  },
  {
   "cell_type": "code",
   "execution_count": 2,
   "metadata": {},
   "outputs": [
    {
     "data": {
      "text/plain": [
       "[['Alabama', 'Alabama', 4267],\n",
       " ['Alabama', 'Tennessee', 483],\n",
       " ['Alabama', 'New York', 437],\n",
       " ['Alabama', 'Texas', 419],\n",
       " ['Alabama', 'Georgia', 400]]"
      ]
     },
     "execution_count": 2,
     "metadata": {},
     "output_type": "execute_result"
    }
   ],
   "source": [
    "edges = []\n",
    "with open('data/state_matrix.csv', 'r') as f:\n",
    "    i = 0\n",
    "    for line in f:\n",
    "        if i == 0:\n",
    "            i += 1\n",
    "        else:\n",
    "            data = line.strip().split(',')\n",
    "            src = data[0]\n",
    "            dst = data[1]\n",
    "            w = int(data[2])\n",
    "            edges.append([src, dst, w])\n",
    "            i += 1\n",
    "edges[:5]"
   ]
  },
  {
   "cell_type": "code",
   "execution_count": 3,
   "metadata": {},
   "outputs": [],
   "source": [
    "edges = np.array(edges)"
   ]
  },
  {
   "cell_type": "code",
   "execution_count": 4,
   "metadata": {},
   "outputs": [],
   "source": [
    "states = np.unique(np.array([edge[0] for edge in edges]))"
   ]
  },
  {
   "cell_type": "code",
   "execution_count": 5,
   "metadata": {},
   "outputs": [
    {
     "data": {
      "text/plain": [
       "array(['Alabama', 'Alaska', 'Arizona', 'Arkansas', 'California',\n",
       "       'Colorado', 'Connecticut', 'Delaware', 'District of Columbia',\n",
       "       'Florida', 'Georgia', 'Hawaii', 'Idaho', 'Illinois', 'Indiana',\n",
       "       'Iowa', 'Kansas', 'Kentucky', 'Louisiana', 'Maine', 'Maryland',\n",
       "       'Massachusetts', 'Michigan', 'Minnesota', 'Mississippi',\n",
       "       'Missouri', 'Montana', 'Nebraska', 'Nevada', 'New Hampshire',\n",
       "       'New Jersey', 'New Mexico', 'New York', 'North Carolina',\n",
       "       'North Dakota', 'Ohio', 'Oklahoma', 'Oregon', 'Pennsylvania',\n",
       "       'Puerto Rico', 'Rhode Island', 'South Carolina', 'South Dakota',\n",
       "       'Tennessee', 'Texas', 'Utah', 'Vermont', 'Virginia', 'Washington',\n",
       "       'West Virginia', 'Wisconsin', 'Wyoming'], dtype='<U20')"
      ]
     },
     "execution_count": 5,
     "metadata": {},
     "output_type": "execute_result"
    }
   ],
   "source": [
    "states"
   ]
  },
  {
   "cell_type": "markdown",
   "metadata": {},
   "source": [
    "Initialize state matrix"
   ]
  },
  {
   "cell_type": "code",
   "execution_count": 6,
   "metadata": {},
   "outputs": [
    {
     "data": {
      "text/plain": [
       "(52, 52)"
      ]
     },
     "execution_count": 6,
     "metadata": {},
     "output_type": "execute_result"
    }
   ],
   "source": [
    "n = len(states)\n",
    "M = np.zeros((n, n))\n",
    "M.shape"
   ]
  },
  {
   "cell_type": "markdown",
   "metadata": {},
   "source": [
    "Populate M with the top ten destinations for each state"
   ]
  },
  {
   "cell_type": "code",
   "execution_count": 7,
   "metadata": {},
   "outputs": [
    {
     "data": {
      "text/plain": [
       "array([   0.,    0.,    0.,    0.,  656.,    0.,    0.,    0.,    0.,\n",
       "        853., 7658.,    0.,    0.,  664.,    0.,    0.,    0.,    0.,\n",
       "          0.,    0.,    0.,    0.,    0.,    0.,    0.,    0.,    0.,\n",
       "          0.,    0.,    0.,    0.,    0., 1830.,  848.,    0.,  763.,\n",
       "          0.,    0.,  869.,    0.,    0.,    0.,    0.,  748.,  877.,\n",
       "          0.,    0.,    0.,    0.,    0.,    0.,    0.])"
      ]
     },
     "execution_count": 7,
     "metadata": {},
     "output_type": "execute_result"
    }
   ],
   "source": [
    "for edge in edges:\n",
    "    if edge[1]=='All other states':\n",
    "        pass\n",
    "    else:\n",
    "        i = (states==edge[0]).argmax()\n",
    "        j = (states==edge[1]).argmax()\n",
    "        value = int(edge[2])\n",
    "        M[i,j] = value\n",
    "M[10]"
   ]
  },
  {
   "cell_type": "markdown",
   "metadata": {},
   "source": [
    "Import population data to allocate \"All other states\" according to population"
   ]
  },
  {
   "cell_type": "code",
   "execution_count": 8,
   "metadata": {},
   "outputs": [
    {
     "data": {
      "text/html": [
       "<div>\n",
       "<style scoped>\n",
       "    .dataframe tbody tr th:only-of-type {\n",
       "        vertical-align: middle;\n",
       "    }\n",
       "\n",
       "    .dataframe tbody tr th {\n",
       "        vertical-align: top;\n",
       "    }\n",
       "\n",
       "    .dataframe thead th {\n",
       "        text-align: right;\n",
       "    }\n",
       "</style>\n",
       "<table border=\"1\" class=\"dataframe\">\n",
       "  <thead>\n",
       "    <tr style=\"text-align: right;\">\n",
       "      <th></th>\n",
       "      <th>REGION</th>\n",
       "      <th>DIVISION</th>\n",
       "      <th>STATE</th>\n",
       "      <th>NAME</th>\n",
       "      <th>POPESTIMATE2017</th>\n",
       "    </tr>\n",
       "  </thead>\n",
       "  <tbody>\n",
       "    <tr>\n",
       "      <th>0</th>\n",
       "      <td>0</td>\n",
       "      <td>0</td>\n",
       "      <td>0</td>\n",
       "      <td>United States</td>\n",
       "      <td>325147121</td>\n",
       "    </tr>\n",
       "    <tr>\n",
       "      <th>1</th>\n",
       "      <td>1</td>\n",
       "      <td>0</td>\n",
       "      <td>0</td>\n",
       "      <td>Northeast Region</td>\n",
       "      <td>56072676</td>\n",
       "    </tr>\n",
       "    <tr>\n",
       "      <th>2</th>\n",
       "      <td>2</td>\n",
       "      <td>0</td>\n",
       "      <td>0</td>\n",
       "      <td>Midwest Region</td>\n",
       "      <td>68156035</td>\n",
       "    </tr>\n",
       "    <tr>\n",
       "      <th>3</th>\n",
       "      <td>3</td>\n",
       "      <td>0</td>\n",
       "      <td>0</td>\n",
       "      <td>South Region</td>\n",
       "      <td>123598424</td>\n",
       "    </tr>\n",
       "    <tr>\n",
       "      <th>4</th>\n",
       "      <td>4</td>\n",
       "      <td>0</td>\n",
       "      <td>0</td>\n",
       "      <td>West Region</td>\n",
       "      <td>77319986</td>\n",
       "    </tr>\n",
       "    <tr>\n",
       "      <th>5</th>\n",
       "      <td>3</td>\n",
       "      <td>6</td>\n",
       "      <td>1</td>\n",
       "      <td>Alabama</td>\n",
       "      <td>4875120</td>\n",
       "    </tr>\n",
       "    <tr>\n",
       "      <th>6</th>\n",
       "      <td>4</td>\n",
       "      <td>9</td>\n",
       "      <td>2</td>\n",
       "      <td>Alaska</td>\n",
       "      <td>739786</td>\n",
       "    </tr>\n",
       "    <tr>\n",
       "      <th>7</th>\n",
       "      <td>4</td>\n",
       "      <td>8</td>\n",
       "      <td>4</td>\n",
       "      <td>Arizona</td>\n",
       "      <td>7048876</td>\n",
       "    </tr>\n",
       "    <tr>\n",
       "      <th>8</th>\n",
       "      <td>3</td>\n",
       "      <td>7</td>\n",
       "      <td>5</td>\n",
       "      <td>Arkansas</td>\n",
       "      <td>3002997</td>\n",
       "    </tr>\n",
       "    <tr>\n",
       "      <th>9</th>\n",
       "      <td>4</td>\n",
       "      <td>9</td>\n",
       "      <td>6</td>\n",
       "      <td>California</td>\n",
       "      <td>39399349</td>\n",
       "    </tr>\n",
       "  </tbody>\n",
       "</table>\n",
       "</div>"
      ],
      "text/plain": [
       "  REGION DIVISION  STATE              NAME  POPESTIMATE2017\n",
       "0      0        0      0     United States        325147121\n",
       "1      1        0      0  Northeast Region         56072676\n",
       "2      2        0      0    Midwest Region         68156035\n",
       "3      3        0      0      South Region        123598424\n",
       "4      4        0      0       West Region         77319986\n",
       "5      3        6      1           Alabama          4875120\n",
       "6      4        9      2            Alaska           739786\n",
       "7      4        8      4           Arizona          7048876\n",
       "8      3        7      5          Arkansas          3002997\n",
       "9      4        9      6        California         39399349"
      ]
     },
     "execution_count": 8,
     "metadata": {},
     "output_type": "execute_result"
    }
   ],
   "source": [
    "df_pop = pd.read_csv('data/nst-est2018-alldata.csv')\n",
    "df_pop.head(10)"
   ]
  },
  {
   "cell_type": "code",
   "execution_count": 9,
   "metadata": {},
   "outputs": [],
   "source": [
    "def find_pop(state):\n",
    "    \"Find the population for a given state\"\n",
    "    return df_pop.iloc[(df_pop.NAME==state).argmax(),4]"
   ]
  },
  {
   "cell_type": "code",
   "execution_count": 10,
   "metadata": {},
   "outputs": [],
   "source": [
    "total_pop = df_pop.POPESTIMATE2017[5:].sum()"
   ]
  },
  {
   "cell_type": "code",
   "execution_count": 11,
   "metadata": {},
   "outputs": [
    {
     "data": {
      "text/html": [
       "<div>\n",
       "<style scoped>\n",
       "    .dataframe tbody tr th:only-of-type {\n",
       "        vertical-align: middle;\n",
       "    }\n",
       "\n",
       "    .dataframe tbody tr th {\n",
       "        vertical-align: top;\n",
       "    }\n",
       "\n",
       "    .dataframe thead th {\n",
       "        text-align: right;\n",
       "    }\n",
       "</style>\n",
       "<table border=\"1\" class=\"dataframe\">\n",
       "  <thead>\n",
       "    <tr style=\"text-align: right;\">\n",
       "      <th></th>\n",
       "      <th>Alabama</th>\n",
       "      <th>Alaska</th>\n",
       "      <th>Arizona</th>\n",
       "      <th>Arkansas</th>\n",
       "      <th>California</th>\n",
       "      <th>Colorado</th>\n",
       "      <th>Connecticut</th>\n",
       "      <th>Delaware</th>\n",
       "      <th>District of Columbia</th>\n",
       "      <th>Florida</th>\n",
       "      <th>...</th>\n",
       "      <th>South Dakota</th>\n",
       "      <th>Tennessee</th>\n",
       "      <th>Texas</th>\n",
       "      <th>Utah</th>\n",
       "      <th>Vermont</th>\n",
       "      <th>Virginia</th>\n",
       "      <th>Washington</th>\n",
       "      <th>West Virginia</th>\n",
       "      <th>Wisconsin</th>\n",
       "      <th>Wyoming</th>\n",
       "    </tr>\n",
       "  </thead>\n",
       "  <tbody>\n",
       "    <tr>\n",
       "      <th>Alabama</th>\n",
       "      <td>4267.0</td>\n",
       "      <td>0.0</td>\n",
       "      <td>0.0</td>\n",
       "      <td>0.0</td>\n",
       "      <td>0.0</td>\n",
       "      <td>0.0</td>\n",
       "      <td>0.0</td>\n",
       "      <td>0.0</td>\n",
       "      <td>0.0</td>\n",
       "      <td>360.0</td>\n",
       "      <td>...</td>\n",
       "      <td>0.0</td>\n",
       "      <td>483.0</td>\n",
       "      <td>419.0</td>\n",
       "      <td>0.0</td>\n",
       "      <td>0.0</td>\n",
       "      <td>0.0</td>\n",
       "      <td>0.0</td>\n",
       "      <td>0.0</td>\n",
       "      <td>0.0</td>\n",
       "      <td>0.0</td>\n",
       "    </tr>\n",
       "    <tr>\n",
       "      <th>Alaska</th>\n",
       "      <td>0.0</td>\n",
       "      <td>105.0</td>\n",
       "      <td>0.0</td>\n",
       "      <td>0.0</td>\n",
       "      <td>199.0</td>\n",
       "      <td>70.0</td>\n",
       "      <td>0.0</td>\n",
       "      <td>0.0</td>\n",
       "      <td>0.0</td>\n",
       "      <td>0.0</td>\n",
       "      <td>...</td>\n",
       "      <td>0.0</td>\n",
       "      <td>0.0</td>\n",
       "      <td>167.0</td>\n",
       "      <td>0.0</td>\n",
       "      <td>0.0</td>\n",
       "      <td>0.0</td>\n",
       "      <td>163.0</td>\n",
       "      <td>0.0</td>\n",
       "      <td>0.0</td>\n",
       "      <td>0.0</td>\n",
       "    </tr>\n",
       "    <tr>\n",
       "      <th>Arizona</th>\n",
       "      <td>0.0</td>\n",
       "      <td>0.0</td>\n",
       "      <td>4208.0</td>\n",
       "      <td>0.0</td>\n",
       "      <td>1198.0</td>\n",
       "      <td>0.0</td>\n",
       "      <td>0.0</td>\n",
       "      <td>0.0</td>\n",
       "      <td>0.0</td>\n",
       "      <td>0.0</td>\n",
       "      <td>...</td>\n",
       "      <td>0.0</td>\n",
       "      <td>0.0</td>\n",
       "      <td>761.0</td>\n",
       "      <td>0.0</td>\n",
       "      <td>0.0</td>\n",
       "      <td>0.0</td>\n",
       "      <td>0.0</td>\n",
       "      <td>0.0</td>\n",
       "      <td>0.0</td>\n",
       "      <td>0.0</td>\n",
       "    </tr>\n",
       "    <tr>\n",
       "      <th>Arkansas</th>\n",
       "      <td>0.0</td>\n",
       "      <td>0.0</td>\n",
       "      <td>0.0</td>\n",
       "      <td>2802.0</td>\n",
       "      <td>0.0</td>\n",
       "      <td>0.0</td>\n",
       "      <td>0.0</td>\n",
       "      <td>0.0</td>\n",
       "      <td>0.0</td>\n",
       "      <td>0.0</td>\n",
       "      <td>...</td>\n",
       "      <td>0.0</td>\n",
       "      <td>244.0</td>\n",
       "      <td>421.0</td>\n",
       "      <td>0.0</td>\n",
       "      <td>0.0</td>\n",
       "      <td>0.0</td>\n",
       "      <td>0.0</td>\n",
       "      <td>0.0</td>\n",
       "      <td>0.0</td>\n",
       "      <td>0.0</td>\n",
       "    </tr>\n",
       "    <tr>\n",
       "      <th>California</th>\n",
       "      <td>0.0</td>\n",
       "      <td>0.0</td>\n",
       "      <td>0.0</td>\n",
       "      <td>0.0</td>\n",
       "      <td>57893.0</td>\n",
       "      <td>0.0</td>\n",
       "      <td>0.0</td>\n",
       "      <td>0.0</td>\n",
       "      <td>0.0</td>\n",
       "      <td>0.0</td>\n",
       "      <td>...</td>\n",
       "      <td>0.0</td>\n",
       "      <td>0.0</td>\n",
       "      <td>2471.0</td>\n",
       "      <td>0.0</td>\n",
       "      <td>0.0</td>\n",
       "      <td>0.0</td>\n",
       "      <td>0.0</td>\n",
       "      <td>0.0</td>\n",
       "      <td>0.0</td>\n",
       "      <td>0.0</td>\n",
       "    </tr>\n",
       "  </tbody>\n",
       "</table>\n",
       "<p>5 rows × 52 columns</p>\n",
       "</div>"
      ],
      "text/plain": [
       "            Alabama  Alaska  Arizona  Arkansas  California  Colorado  \\\n",
       "Alabama      4267.0     0.0      0.0       0.0         0.0       0.0   \n",
       "Alaska          0.0   105.0      0.0       0.0       199.0      70.0   \n",
       "Arizona         0.0     0.0   4208.0       0.0      1198.0       0.0   \n",
       "Arkansas        0.0     0.0      0.0    2802.0         0.0       0.0   \n",
       "California      0.0     0.0      0.0       0.0     57893.0       0.0   \n",
       "\n",
       "            Connecticut  Delaware  District of Columbia  Florida   ...     \\\n",
       "Alabama             0.0       0.0                   0.0    360.0   ...      \n",
       "Alaska              0.0       0.0                   0.0      0.0   ...      \n",
       "Arizona             0.0       0.0                   0.0      0.0   ...      \n",
       "Arkansas            0.0       0.0                   0.0      0.0   ...      \n",
       "California          0.0       0.0                   0.0      0.0   ...      \n",
       "\n",
       "            South Dakota  Tennessee   Texas  Utah  Vermont  Virginia  \\\n",
       "Alabama              0.0      483.0   419.0   0.0      0.0       0.0   \n",
       "Alaska               0.0        0.0   167.0   0.0      0.0       0.0   \n",
       "Arizona              0.0        0.0   761.0   0.0      0.0       0.0   \n",
       "Arkansas             0.0      244.0   421.0   0.0      0.0       0.0   \n",
       "California           0.0        0.0  2471.0   0.0      0.0       0.0   \n",
       "\n",
       "            Washington  West Virginia  Wisconsin  Wyoming  \n",
       "Alabama            0.0            0.0        0.0      0.0  \n",
       "Alaska           163.0            0.0        0.0      0.0  \n",
       "Arizona            0.0            0.0        0.0      0.0  \n",
       "Arkansas           0.0            0.0        0.0      0.0  \n",
       "California         0.0            0.0        0.0      0.0  \n",
       "\n",
       "[5 rows x 52 columns]"
      ]
     },
     "execution_count": 11,
     "metadata": {},
     "output_type": "execute_result"
    }
   ],
   "source": [
    "df_state_matrix = pd.DataFrame(M, columns=states, index=states)\n",
    "df_state_matrix.head()"
   ]
  },
  {
   "cell_type": "markdown",
   "metadata": {},
   "source": [
    "Fill zeros according to state populations"
   ]
  },
  {
   "cell_type": "code",
   "execution_count": 12,
   "metadata": {},
   "outputs": [
    {
     "data": {
      "text/plain": [
       "52"
      ]
     },
     "execution_count": 12,
     "metadata": {},
     "output_type": "execute_result"
    }
   ],
   "source": [
    "edges_other = np.array([edge for edge in edges if edge[1]=='All other states'])\n",
    "len(edges_other)"
   ]
  },
  {
   "cell_type": "code",
   "execution_count": 13,
   "metadata": {},
   "outputs": [],
   "source": [
    "df_called = df_pop[['NAME', 'POPESTIMATE2017']].iloc[5:].reset_index(drop=True)"
   ]
  },
  {
   "cell_type": "code",
   "execution_count": 14,
   "metadata": {},
   "outputs": [
    {
     "data": {
      "text/plain": [
       "array([['Alabama', 'All other states', '2521'],\n",
       "       ['Alaska', 'All other states', '830'],\n",
       "       ['Arizona', 'All other states', '4181'],\n",
       "       ['Arkansas', 'All other states', '1397'],\n",
       "       ['California', 'All other states', '15580']], dtype='<U20')"
      ]
     },
     "execution_count": 14,
     "metadata": {},
     "output_type": "execute_result"
    }
   ],
   "source": [
    "edges_other[:5]"
   ]
  },
  {
   "cell_type": "code",
   "execution_count": 15,
   "metadata": {},
   "outputs": [],
   "source": [
    "def allocate_other(edge, M):\n",
    "    \"\"\"Allocate data pointing to \"All other states\" taking population into account\"\"\"\n",
    "    state = edge[0]\n",
    "    value = int(edge[2])\n",
    "    temp = pd.DataFrame(df_state_matrix.loc[state][df_state_matrix.loc[state]==0])\n",
    "    temp.reset_index(inplace=True)\n",
    "    temp.rename(index=str, columns={'index': 'NAME'}, inplace=True)\n",
    "    temp = temp.set_index('NAME').join(df_called.set_index('NAME'),\n",
    "                                      lsuffix='_caller', rsuffix='_called', how='left')\n",
    "    temp_total = temp.POPESTIMATE2017.sum()\n",
    "    temp['w'] = temp.POPESTIMATE2017 / temp_total\n",
    "    temp[state] = value * temp['w']\n",
    "    i = (states==state).argmax()\n",
    "    for idx, val in zip(temp.index, temp[state]):\n",
    "        j = (states==idx).argmax()\n",
    "        M[i,j] = int(val)\n",
    "    print('Allocated values for {}'.format(state))"
   ]
  },
  {
   "cell_type": "code",
   "execution_count": 16,
   "metadata": {},
   "outputs": [],
   "source": [
    "M_other = M.copy()"
   ]
  },
  {
   "cell_type": "code",
   "execution_count": 17,
   "metadata": {},
   "outputs": [
    {
     "data": {
      "text/plain": [
       "array([4267.,    0.,    0.,    0.,    0.,    0.,    0.,    0.,    0.,\n",
       "        360.,  400.,    0.,    0.,    0.,    0.,    0.,    0.,    0.,\n",
       "        334.,    0.,    0.,    0.,    0.,    0.,  215.,    0.,    0.,\n",
       "          0.,    0.,    0.,    0.,    0.,  437.,  261.,    0.,  235.,\n",
       "          0.,    0.,    0.,    0.,    0.,    0.,    0.,  483.,  419.,\n",
       "          0.,    0.,    0.,    0.,    0.,    0.,    0.])"
      ]
     },
     "execution_count": 17,
     "metadata": {},
     "output_type": "execute_result"
    }
   ],
   "source": [
    "M[0]"
   ]
  },
  {
   "cell_type": "code",
   "execution_count": 18,
   "metadata": {},
   "outputs": [
    {
     "name": "stdout",
     "output_type": "stream",
     "text": [
      "Allocated values for Alabama\n",
      "Allocated values for Alaska\n",
      "Allocated values for Arizona\n",
      "Allocated values for Arkansas\n",
      "Allocated values for California\n",
      "Allocated values for Colorado\n",
      "Allocated values for Connecticut\n",
      "Allocated values for Delaware\n",
      "Allocated values for District of Columbia\n",
      "Allocated values for Florida\n",
      "Allocated values for Georgia\n",
      "Allocated values for Hawaii\n",
      "Allocated values for Idaho\n",
      "Allocated values for Illinois\n",
      "Allocated values for Indiana\n",
      "Allocated values for Iowa\n",
      "Allocated values for Kansas\n",
      "Allocated values for Kentucky\n",
      "Allocated values for Louisiana\n",
      "Allocated values for Maine\n",
      "Allocated values for Maryland\n",
      "Allocated values for Massachusetts\n",
      "Allocated values for Michigan\n",
      "Allocated values for Minnesota\n",
      "Allocated values for Mississippi\n",
      "Allocated values for Missouri\n",
      "Allocated values for Montana\n",
      "Allocated values for Nebraska\n",
      "Allocated values for Nevada\n",
      "Allocated values for New Hampshire\n",
      "Allocated values for New Jersey\n",
      "Allocated values for New Mexico\n",
      "Allocated values for New York\n",
      "Allocated values for North Carolina\n",
      "Allocated values for North Dakota\n",
      "Allocated values for Ohio\n",
      "Allocated values for Oklahoma\n",
      "Allocated values for Oregon\n",
      "Allocated values for Pennsylvania\n",
      "Allocated values for Puerto Rico\n",
      "Allocated values for Rhode Island\n",
      "Allocated values for South Carolina\n",
      "Allocated values for South Dakota\n",
      "Allocated values for Tennessee\n",
      "Allocated values for Texas\n",
      "Allocated values for Utah\n",
      "Allocated values for Vermont\n",
      "Allocated values for Virginia\n",
      "Allocated values for Washington\n",
      "Allocated values for West Virginia\n",
      "Allocated values for Wisconsin\n",
      "Allocated values for Wyoming\n"
     ]
    }
   ],
   "source": [
    "for edge in edges_other:\n",
    "    allocate_other(edge, M_other)"
   ]
  },
  {
   "cell_type": "markdown",
   "metadata": {},
   "source": [
    "Distributed \"All other states\" by population of states outside of the top 10"
   ]
  },
  {
   "cell_type": "code",
   "execution_count": 19,
   "metadata": {},
   "outputs": [
    {
     "data": {
      "text/plain": [
       "array([4267.,    8.,   85.,   36.,  477.,   68.,   43.,   11.,    8.,\n",
       "        360.,  400.,   17.,   20.,  154.,   80.,   38.,   35.,   53.,\n",
       "        334.,   16.,   73.,   83.,  120.,   67.,  215.,   74.,   12.,\n",
       "         23.,   36.,   16.,  107.,   25.,  437.,  261.,    9.,  235.,\n",
       "         47.,   50.,  155.,   40.,   12.,   60.,   10.,  483.,  419.,\n",
       "         37.,    7.,  102.,   90.,   22.,   70.,    7.])"
      ]
     },
     "execution_count": 19,
     "metadata": {},
     "output_type": "execute_result"
    }
   ],
   "source": [
    "M_other[0]"
   ]
  },
  {
   "cell_type": "code",
   "execution_count": 20,
   "metadata": {},
   "outputs": [
    {
     "data": {
      "text/plain": [
       "[4267.0, 8.0, 85.0, 36.0, 477.0]"
      ]
     },
     "execution_count": 20,
     "metadata": {},
     "output_type": "execute_result"
    }
   ],
   "source": [
    "M_lists = []\n",
    "for row in M_other:\n",
    "    M_lists.append(list(row))\n",
    "M_json = {'matrix': M_lists}\n",
    "M_json['matrix'][0][:5]"
   ]
  },
  {
   "cell_type": "code",
   "execution_count": 21,
   "metadata": {},
   "outputs": [],
   "source": [
    "with open('data/state_matrix.json', 'w') as f:\n",
    "    json.dump(M_json, f)"
   ]
  },
  {
   "cell_type": "code",
   "execution_count": 22,
   "metadata": {},
   "outputs": [],
   "source": [
    "states_list = list(states)\n",
    "states_json = {'list': states_list}"
   ]
  },
  {
   "cell_type": "code",
   "execution_count": 23,
   "metadata": {},
   "outputs": [],
   "source": [
    "with open('data/states_list.json', 'w') as f:\n",
    "    json.dump(states_json, f)"
   ]
  },
  {
   "cell_type": "markdown",
   "metadata": {},
   "source": [
    "Write the regional matrix"
   ]
  },
  {
   "cell_type": "code",
   "execution_count": 24,
   "metadata": {},
   "outputs": [
    {
     "data": {
      "text/html": [
       "<div>\n",
       "<style scoped>\n",
       "    .dataframe tbody tr th:only-of-type {\n",
       "        vertical-align: middle;\n",
       "    }\n",
       "\n",
       "    .dataframe tbody tr th {\n",
       "        vertical-align: top;\n",
       "    }\n",
       "\n",
       "    .dataframe thead th {\n",
       "        text-align: right;\n",
       "    }\n",
       "</style>\n",
       "<table border=\"1\" class=\"dataframe\">\n",
       "  <thead>\n",
       "    <tr style=\"text-align: right;\">\n",
       "      <th></th>\n",
       "      <th>REGION</th>\n",
       "      <th>DIVISION</th>\n",
       "      <th>STATE</th>\n",
       "      <th>NAME</th>\n",
       "      <th>POPESTIMATE2017</th>\n",
       "    </tr>\n",
       "  </thead>\n",
       "  <tbody>\n",
       "    <tr>\n",
       "      <th>0</th>\n",
       "      <td>0</td>\n",
       "      <td>0</td>\n",
       "      <td>0</td>\n",
       "      <td>United States</td>\n",
       "      <td>325147121</td>\n",
       "    </tr>\n",
       "    <tr>\n",
       "      <th>1</th>\n",
       "      <td>1</td>\n",
       "      <td>0</td>\n",
       "      <td>0</td>\n",
       "      <td>Northeast Region</td>\n",
       "      <td>56072676</td>\n",
       "    </tr>\n",
       "    <tr>\n",
       "      <th>2</th>\n",
       "      <td>2</td>\n",
       "      <td>0</td>\n",
       "      <td>0</td>\n",
       "      <td>Midwest Region</td>\n",
       "      <td>68156035</td>\n",
       "    </tr>\n",
       "    <tr>\n",
       "      <th>3</th>\n",
       "      <td>3</td>\n",
       "      <td>0</td>\n",
       "      <td>0</td>\n",
       "      <td>South Region</td>\n",
       "      <td>123598424</td>\n",
       "    </tr>\n",
       "    <tr>\n",
       "      <th>4</th>\n",
       "      <td>4</td>\n",
       "      <td>0</td>\n",
       "      <td>0</td>\n",
       "      <td>West Region</td>\n",
       "      <td>77319986</td>\n",
       "    </tr>\n",
       "    <tr>\n",
       "      <th>5</th>\n",
       "      <td>3</td>\n",
       "      <td>6</td>\n",
       "      <td>1</td>\n",
       "      <td>Alabama</td>\n",
       "      <td>4875120</td>\n",
       "    </tr>\n",
       "  </tbody>\n",
       "</table>\n",
       "</div>"
      ],
      "text/plain": [
       "  REGION DIVISION  STATE              NAME  POPESTIMATE2017\n",
       "0      0        0      0     United States        325147121\n",
       "1      1        0      0  Northeast Region         56072676\n",
       "2      2        0      0    Midwest Region         68156035\n",
       "3      3        0      0      South Region        123598424\n",
       "4      4        0      0       West Region         77319986\n",
       "5      3        6      1           Alabama          4875120"
      ]
     },
     "execution_count": 24,
     "metadata": {},
     "output_type": "execute_result"
    }
   ],
   "source": [
    "df_pop.head(6)"
   ]
  },
  {
   "cell_type": "markdown",
   "metadata": {},
   "source": [
    "Four regions, Northeast, Midwest, South, and West  \n",
    "AAMC has Northeast, Central, South, and West"
   ]
  },
  {
   "cell_type": "code",
   "execution_count": 25,
   "metadata": {},
   "outputs": [],
   "source": [
    "ne = ['Connecticut', 'Delaware', 'District of Columbia', 'Maine', 'Maryland', \n",
    "      'Massachusetts', 'New Hampshire', 'New Jersey', 'New York', 'Pennsylvania', \n",
    "      'Rhode Island', 'Vermont']\n",
    "c = ['Illinois', 'Indiana', 'Iowa', 'Kansas', 'Michigan', 'Minnesota', 'Missouri',\n",
    "     'Nebraska', 'North Dakota', 'Ohio', 'South Dakota', 'Wisconsin']\n",
    "s = ['Alabama', 'Arkansas', 'Florida', 'Georgia', 'Kentucky', 'Louisiana', 'Mississippi',\n",
    "     'North Carolina', 'Oklahoma', 'Puerto Rico', 'South Carolina', 'Tennessee', 'Texas', \n",
    "     'Virginia', 'West Virginia']\n",
    "w = ['Alaska', 'Arizona', 'California', 'Colorado', 'Hawaii', 'Idaho', 'Montana', 'Nevada',\n",
    "     'New Mexico', 'Oregon', 'Utah', 'Washington', 'Wyoming']"
   ]
  },
  {
   "cell_type": "code",
   "execution_count": 26,
   "metadata": {},
   "outputs": [],
   "source": [
    "def aamc_region(state):\n",
    "    # Allocate AAMC regions\n",
    "    if state in ne:\n",
    "        return 0\n",
    "    elif state in c:\n",
    "        return 1\n",
    "    elif state in s:\n",
    "        return 2\n",
    "    elif state in w:\n",
    "        return 3"
   ]
  },
  {
   "cell_type": "code",
   "execution_count": 27,
   "metadata": {},
   "outputs": [],
   "source": [
    "df_pop['aamc_region'] = df_pop['NAME'].apply(aamc_region)"
   ]
  },
  {
   "cell_type": "code",
   "execution_count": 28,
   "metadata": {},
   "outputs": [
    {
     "data": {
      "text/html": [
       "<div>\n",
       "<style scoped>\n",
       "    .dataframe tbody tr th:only-of-type {\n",
       "        vertical-align: middle;\n",
       "    }\n",
       "\n",
       "    .dataframe tbody tr th {\n",
       "        vertical-align: top;\n",
       "    }\n",
       "\n",
       "    .dataframe thead th {\n",
       "        text-align: right;\n",
       "    }\n",
       "</style>\n",
       "<table border=\"1\" class=\"dataframe\">\n",
       "  <thead>\n",
       "    <tr style=\"text-align: right;\">\n",
       "      <th></th>\n",
       "      <th>REGION</th>\n",
       "      <th>DIVISION</th>\n",
       "      <th>STATE</th>\n",
       "      <th>NAME</th>\n",
       "      <th>POPESTIMATE2017</th>\n",
       "      <th>aamc_region</th>\n",
       "    </tr>\n",
       "  </thead>\n",
       "  <tbody>\n",
       "    <tr>\n",
       "      <th>0</th>\n",
       "      <td>0</td>\n",
       "      <td>0</td>\n",
       "      <td>0</td>\n",
       "      <td>United States</td>\n",
       "      <td>325147121</td>\n",
       "      <td>NaN</td>\n",
       "    </tr>\n",
       "    <tr>\n",
       "      <th>1</th>\n",
       "      <td>1</td>\n",
       "      <td>0</td>\n",
       "      <td>0</td>\n",
       "      <td>Northeast Region</td>\n",
       "      <td>56072676</td>\n",
       "      <td>NaN</td>\n",
       "    </tr>\n",
       "    <tr>\n",
       "      <th>2</th>\n",
       "      <td>2</td>\n",
       "      <td>0</td>\n",
       "      <td>0</td>\n",
       "      <td>Midwest Region</td>\n",
       "      <td>68156035</td>\n",
       "      <td>NaN</td>\n",
       "    </tr>\n",
       "    <tr>\n",
       "      <th>3</th>\n",
       "      <td>3</td>\n",
       "      <td>0</td>\n",
       "      <td>0</td>\n",
       "      <td>South Region</td>\n",
       "      <td>123598424</td>\n",
       "      <td>NaN</td>\n",
       "    </tr>\n",
       "    <tr>\n",
       "      <th>4</th>\n",
       "      <td>4</td>\n",
       "      <td>0</td>\n",
       "      <td>0</td>\n",
       "      <td>West Region</td>\n",
       "      <td>77319986</td>\n",
       "      <td>NaN</td>\n",
       "    </tr>\n",
       "    <tr>\n",
       "      <th>5</th>\n",
       "      <td>3</td>\n",
       "      <td>6</td>\n",
       "      <td>1</td>\n",
       "      <td>Alabama</td>\n",
       "      <td>4875120</td>\n",
       "      <td>2.0</td>\n",
       "    </tr>\n",
       "    <tr>\n",
       "      <th>6</th>\n",
       "      <td>4</td>\n",
       "      <td>9</td>\n",
       "      <td>2</td>\n",
       "      <td>Alaska</td>\n",
       "      <td>739786</td>\n",
       "      <td>3.0</td>\n",
       "    </tr>\n",
       "    <tr>\n",
       "      <th>7</th>\n",
       "      <td>4</td>\n",
       "      <td>8</td>\n",
       "      <td>4</td>\n",
       "      <td>Arizona</td>\n",
       "      <td>7048876</td>\n",
       "      <td>3.0</td>\n",
       "    </tr>\n",
       "    <tr>\n",
       "      <th>8</th>\n",
       "      <td>3</td>\n",
       "      <td>7</td>\n",
       "      <td>5</td>\n",
       "      <td>Arkansas</td>\n",
       "      <td>3002997</td>\n",
       "      <td>2.0</td>\n",
       "    </tr>\n",
       "    <tr>\n",
       "      <th>9</th>\n",
       "      <td>4</td>\n",
       "      <td>9</td>\n",
       "      <td>6</td>\n",
       "      <td>California</td>\n",
       "      <td>39399349</td>\n",
       "      <td>3.0</td>\n",
       "    </tr>\n",
       "  </tbody>\n",
       "</table>\n",
       "</div>"
      ],
      "text/plain": [
       "  REGION DIVISION  STATE              NAME  POPESTIMATE2017  aamc_region\n",
       "0      0        0      0     United States        325147121          NaN\n",
       "1      1        0      0  Northeast Region         56072676          NaN\n",
       "2      2        0      0    Midwest Region         68156035          NaN\n",
       "3      3        0      0      South Region        123598424          NaN\n",
       "4      4        0      0       West Region         77319986          NaN\n",
       "5      3        6      1           Alabama          4875120          2.0\n",
       "6      4        9      2            Alaska           739786          3.0\n",
       "7      4        8      4           Arizona          7048876          3.0\n",
       "8      3        7      5          Arkansas          3002997          2.0\n",
       "9      4        9      6        California         39399349          3.0"
      ]
     },
     "execution_count": 28,
     "metadata": {},
     "output_type": "execute_result"
    }
   ],
   "source": [
    "df_pop.head(10)"
   ]
  },
  {
   "cell_type": "code",
   "execution_count": 49,
   "metadata": {},
   "outputs": [
    {
     "data": {
      "text/html": [
       "<div>\n",
       "<style scoped>\n",
       "    .dataframe tbody tr th:only-of-type {\n",
       "        vertical-align: middle;\n",
       "    }\n",
       "\n",
       "    .dataframe tbody tr th {\n",
       "        vertical-align: top;\n",
       "    }\n",
       "\n",
       "    .dataframe thead th {\n",
       "        text-align: right;\n",
       "    }\n",
       "</style>\n",
       "<table border=\"1\" class=\"dataframe\">\n",
       "  <thead>\n",
       "    <tr style=\"text-align: right;\">\n",
       "      <th></th>\n",
       "      <th>Alabama</th>\n",
       "      <th>Alaska</th>\n",
       "      <th>Arizona</th>\n",
       "      <th>Arkansas</th>\n",
       "      <th>California</th>\n",
       "      <th>Colorado</th>\n",
       "      <th>Connecticut</th>\n",
       "      <th>Delaware</th>\n",
       "      <th>District of Columbia</th>\n",
       "      <th>Florida</th>\n",
       "      <th>...</th>\n",
       "      <th>South Dakota</th>\n",
       "      <th>Tennessee</th>\n",
       "      <th>Texas</th>\n",
       "      <th>Utah</th>\n",
       "      <th>Vermont</th>\n",
       "      <th>Virginia</th>\n",
       "      <th>Washington</th>\n",
       "      <th>West Virginia</th>\n",
       "      <th>Wisconsin</th>\n",
       "      <th>Wyoming</th>\n",
       "    </tr>\n",
       "  </thead>\n",
       "  <tbody>\n",
       "    <tr>\n",
       "      <th>Alabama</th>\n",
       "      <td>4267.0</td>\n",
       "      <td>8.0</td>\n",
       "      <td>85.0</td>\n",
       "      <td>36.0</td>\n",
       "      <td>477.0</td>\n",
       "      <td>68.0</td>\n",
       "      <td>43.0</td>\n",
       "      <td>11.0</td>\n",
       "      <td>8.0</td>\n",
       "      <td>360.0</td>\n",
       "      <td>...</td>\n",
       "      <td>10.0</td>\n",
       "      <td>483.0</td>\n",
       "      <td>419.0</td>\n",
       "      <td>37.0</td>\n",
       "      <td>7.0</td>\n",
       "      <td>102.0</td>\n",
       "      <td>90.0</td>\n",
       "      <td>22.0</td>\n",
       "      <td>70.0</td>\n",
       "      <td>7.0</td>\n",
       "    </tr>\n",
       "    <tr>\n",
       "      <th>Alaska</th>\n",
       "      <td>21.0</td>\n",
       "      <td>105.0</td>\n",
       "      <td>31.0</td>\n",
       "      <td>13.0</td>\n",
       "      <td>199.0</td>\n",
       "      <td>70.0</td>\n",
       "      <td>15.0</td>\n",
       "      <td>4.0</td>\n",
       "      <td>3.0</td>\n",
       "      <td>92.0</td>\n",
       "      <td>...</td>\n",
       "      <td>3.0</td>\n",
       "      <td>29.0</td>\n",
       "      <td>167.0</td>\n",
       "      <td>13.0</td>\n",
       "      <td>2.0</td>\n",
       "      <td>37.0</td>\n",
       "      <td>163.0</td>\n",
       "      <td>8.0</td>\n",
       "      <td>25.0</td>\n",
       "      <td>2.0</td>\n",
       "    </tr>\n",
       "    <tr>\n",
       "      <th>Arizona</th>\n",
       "      <td>116.0</td>\n",
       "      <td>17.0</td>\n",
       "      <td>4208.0</td>\n",
       "      <td>71.0</td>\n",
       "      <td>1198.0</td>\n",
       "      <td>134.0</td>\n",
       "      <td>85.0</td>\n",
       "      <td>22.0</td>\n",
       "      <td>16.0</td>\n",
       "      <td>502.0</td>\n",
       "      <td>...</td>\n",
       "      <td>20.0</td>\n",
       "      <td>160.0</td>\n",
       "      <td>761.0</td>\n",
       "      <td>74.0</td>\n",
       "      <td>14.0</td>\n",
       "      <td>202.0</td>\n",
       "      <td>177.0</td>\n",
       "      <td>43.0</td>\n",
       "      <td>138.0</td>\n",
       "      <td>13.0</td>\n",
       "    </tr>\n",
       "    <tr>\n",
       "      <th>Arkansas</th>\n",
       "      <td>30.0</td>\n",
       "      <td>4.0</td>\n",
       "      <td>44.0</td>\n",
       "      <td>2802.0</td>\n",
       "      <td>248.0</td>\n",
       "      <td>35.0</td>\n",
       "      <td>22.0</td>\n",
       "      <td>6.0</td>\n",
       "      <td>4.0</td>\n",
       "      <td>132.0</td>\n",
       "      <td>...</td>\n",
       "      <td>5.0</td>\n",
       "      <td>244.0</td>\n",
       "      <td>421.0</td>\n",
       "      <td>19.0</td>\n",
       "      <td>3.0</td>\n",
       "      <td>53.0</td>\n",
       "      <td>46.0</td>\n",
       "      <td>11.0</td>\n",
       "      <td>36.0</td>\n",
       "      <td>3.0</td>\n",
       "    </tr>\n",
       "    <tr>\n",
       "      <th>California</th>\n",
       "      <td>441.0</td>\n",
       "      <td>66.0</td>\n",
       "      <td>637.0</td>\n",
       "      <td>271.0</td>\n",
       "      <td>57893.0</td>\n",
       "      <td>508.0</td>\n",
       "      <td>323.0</td>\n",
       "      <td>86.0</td>\n",
       "      <td>62.0</td>\n",
       "      <td>1898.0</td>\n",
       "      <td>...</td>\n",
       "      <td>79.0</td>\n",
       "      <td>607.0</td>\n",
       "      <td>2471.0</td>\n",
       "      <td>280.0</td>\n",
       "      <td>56.0</td>\n",
       "      <td>766.0</td>\n",
       "      <td>671.0</td>\n",
       "      <td>164.0</td>\n",
       "      <td>524.0</td>\n",
       "      <td>52.0</td>\n",
       "    </tr>\n",
       "  </tbody>\n",
       "</table>\n",
       "<p>5 rows × 52 columns</p>\n",
       "</div>"
      ],
      "text/plain": [
       "            Alabama  Alaska  Arizona  Arkansas  California  Colorado  \\\n",
       "Alabama      4267.0     8.0     85.0      36.0       477.0      68.0   \n",
       "Alaska         21.0   105.0     31.0      13.0       199.0      70.0   \n",
       "Arizona       116.0    17.0   4208.0      71.0      1198.0     134.0   \n",
       "Arkansas       30.0     4.0     44.0    2802.0       248.0      35.0   \n",
       "California    441.0    66.0    637.0     271.0     57893.0     508.0   \n",
       "\n",
       "            Connecticut  Delaware  District of Columbia  Florida   ...     \\\n",
       "Alabama            43.0      11.0                   8.0    360.0   ...      \n",
       "Alaska             15.0       4.0                   3.0     92.0   ...      \n",
       "Arizona            85.0      22.0                  16.0    502.0   ...      \n",
       "Arkansas           22.0       6.0                   4.0    132.0   ...      \n",
       "California        323.0      86.0                  62.0   1898.0   ...      \n",
       "\n",
       "            South Dakota  Tennessee   Texas   Utah  Vermont  Virginia  \\\n",
       "Alabama             10.0      483.0   419.0   37.0      7.0     102.0   \n",
       "Alaska               3.0       29.0   167.0   13.0      2.0      37.0   \n",
       "Arizona             20.0      160.0   761.0   74.0     14.0     202.0   \n",
       "Arkansas             5.0      244.0   421.0   19.0      3.0      53.0   \n",
       "California          79.0      607.0  2471.0  280.0     56.0     766.0   \n",
       "\n",
       "            Washington  West Virginia  Wisconsin  Wyoming  \n",
       "Alabama           90.0           22.0       70.0      7.0  \n",
       "Alaska           163.0            8.0       25.0      2.0  \n",
       "Arizona          177.0           43.0      138.0     13.0  \n",
       "Arkansas          46.0           11.0       36.0      3.0  \n",
       "California       671.0          164.0      524.0     52.0  \n",
       "\n",
       "[5 rows x 52 columns]"
      ]
     },
     "execution_count": 49,
     "metadata": {},
     "output_type": "execute_result"
    }
   ],
   "source": [
    "df_M = pd.DataFrame(M_other, columns=states, index=states)\n",
    "df_M.head()"
   ]
  },
  {
   "cell_type": "code",
   "execution_count": 54,
   "metadata": {},
   "outputs": [],
   "source": [
    "temp = pd.DataFrame(df_M.reset_index()['index'].apply(aamc_region))\n",
    "df_M = df_M.reset_index().join(temp, lsuffix='_caller', rsuffix='_called')\\\n",
    "    .set_index('index_caller').rename(index=str, columns={'index_called': 'region'})"
   ]
  },
  {
   "cell_type": "code",
   "execution_count": 60,
   "metadata": {},
   "outputs": [],
   "source": [
    "df_pivot = pd.pivot_table(df_M, values=states, columns=['region'], aggfunc=np.sum)"
   ]
  },
  {
   "cell_type": "code",
   "execution_count": 65,
   "metadata": {},
   "outputs": [],
   "source": [
    "temp = pd.DataFrame(df_pivot.reset_index()['index'].apply(aamc_region))\n",
    "df_pivot = df_pivot.reset_index().join(temp, lsuffix='_caller', rsuffix='_called')\\\n",
    "    .set_index('index_caller').rename(index=str, columns={'index_called': 'region'})"
   ]
  },
  {
   "cell_type": "code",
   "execution_count": 68,
   "metadata": {},
   "outputs": [
    {
     "data": {
      "text/html": [
       "<div>\n",
       "<style scoped>\n",
       "    .dataframe tbody tr th:only-of-type {\n",
       "        vertical-align: middle;\n",
       "    }\n",
       "\n",
       "    .dataframe tbody tr th {\n",
       "        vertical-align: top;\n",
       "    }\n",
       "\n",
       "    .dataframe thead th {\n",
       "        text-align: right;\n",
       "    }\n",
       "</style>\n",
       "<table border=\"1\" class=\"dataframe\">\n",
       "  <thead>\n",
       "    <tr style=\"text-align: right;\">\n",
       "      <th></th>\n",
       "      <th>0</th>\n",
       "      <th>1</th>\n",
       "      <th>2</th>\n",
       "      <th>3</th>\n",
       "    </tr>\n",
       "    <tr>\n",
       "      <th>region</th>\n",
       "      <th></th>\n",
       "      <th></th>\n",
       "      <th></th>\n",
       "      <th></th>\n",
       "    </tr>\n",
       "  </thead>\n",
       "  <tbody>\n",
       "    <tr>\n",
       "      <th>0</th>\n",
       "      <td>176625.0</td>\n",
       "      <td>18307.0</td>\n",
       "      <td>49570.0</td>\n",
       "      <td>32232.0</td>\n",
       "    </tr>\n",
       "    <tr>\n",
       "      <th>1</th>\n",
       "      <td>13263.0</td>\n",
       "      <td>121016.0</td>\n",
       "      <td>34589.0</td>\n",
       "      <td>25959.0</td>\n",
       "    </tr>\n",
       "    <tr>\n",
       "      <th>2</th>\n",
       "      <td>15378.0</td>\n",
       "      <td>18827.0</td>\n",
       "      <td>155223.0</td>\n",
       "      <td>28987.0</td>\n",
       "    </tr>\n",
       "    <tr>\n",
       "      <th>3</th>\n",
       "      <td>9206.0</td>\n",
       "      <td>9742.0</td>\n",
       "      <td>22654.0</td>\n",
       "      <td>102520.0</td>\n",
       "    </tr>\n",
       "  </tbody>\n",
       "</table>\n",
       "</div>"
      ],
      "text/plain": [
       "               0         1         2         3\n",
       "region                                        \n",
       "0       176625.0   18307.0   49570.0   32232.0\n",
       "1        13263.0  121016.0   34589.0   25959.0\n",
       "2        15378.0   18827.0  155223.0   28987.0\n",
       "3         9206.0    9742.0   22654.0  102520.0"
      ]
     },
     "execution_count": 68,
     "metadata": {},
     "output_type": "execute_result"
    }
   ],
   "source": [
    "df_pivot2 = pd.pivot_table(df_pivot, values=[0,1,2,3], index=['region'], aggfunc=np.sum)\n",
    "df_pivot2"
   ]
  },
  {
   "cell_type": "code",
   "execution_count": 76,
   "metadata": {},
   "outputs": [],
   "source": [
    "region_list = df_pivot2.values.tolist()\n",
    "region_json = {'matrix': region_list}"
   ]
  },
  {
   "cell_type": "code",
   "execution_count": 78,
   "metadata": {},
   "outputs": [],
   "source": [
    "with open('data/region_matrix.json', 'w') as f:\n",
    "    json.dump(region_json, f)"
   ]
  },
  {
   "cell_type": "markdown",
   "metadata": {},
   "source": [
    "Order of region: Northeast, Central, South, West"
   ]
  }
 ],
 "metadata": {
  "kernelspec": {
   "display_name": "fractl",
   "language": "python",
   "name": "fractl"
  },
  "language_info": {
   "codemirror_mode": {
    "name": "ipython",
    "version": 3
   },
   "file_extension": ".py",
   "mimetype": "text/x-python",
   "name": "python",
   "nbconvert_exporter": "python",
   "pygments_lexer": "ipython3",
   "version": "3.6.5"
  }
 },
 "nbformat": 4,
 "nbformat_minor": 2
}
